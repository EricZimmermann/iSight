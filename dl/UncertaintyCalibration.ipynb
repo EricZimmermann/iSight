{
 "cells": [
  {
   "cell_type": "markdown",
   "metadata": {},
   "source": [
    "# Deep Ensemble Calibration for Uncertainty Estimates"
   ]
  },
  {
   "cell_type": "markdown",
   "metadata": {},
   "source": [
    "# Imports"
   ]
  },
  {
   "cell_type": "code",
   "execution_count": null,
   "metadata": {},
   "outputs": [],
   "source": [
    "# system\n",
    "import os \n",
    "\n",
    "# data\n",
    "import pickle\n",
    "import numpy as np\n",
    "import pandas as pd\n",
    "import matplotlib.pyplot as plt\n",
    "import cv2 as cv\n",
    "from sklearn.metrics import accuracy_score\n",
    "\n",
    "# deep learning \n",
    "import torch.backends.cudnn as cudnn\n",
    "import torch\n",
    "import torchvision\n",
    "import torch.nn as nn\n",
    "\n",
    "# custom helpers\n",
    "import trainer\n",
    "import uncertainty "
   ]
  },
  {
   "cell_type": "markdown",
   "metadata": {},
   "source": [
    "# Generics so I dont have to write more methods"
   ]
  },
  {
   "cell_type": "code",
   "execution_count": null,
   "metadata": {},
   "outputs": [],
   "source": [
    "device = torch.device('cuda:0')\n",
    "epochs = 30\n",
    "learning_rate = 3e-4\n",
    "weight_decay = 1e-5\n",
    "step_period = 3\n",
    "lr_decay = 0.95\n",
    "num_workers = 6\n",
    "batch_size = 128\n",
    "\n",
    "model = torchvision.models.densenet121(pretrained=False)\n",
    "model_lin = model.classifier.in_features\n",
    "model.classifier = nn.Linear(model_lin, n_cls)\n",
    "model = model.to(device)"
   ]
  },
  {
   "cell_type": "markdown",
   "metadata": {},
   "source": [
    "# Helpers"
   ]
  },
  {
   "cell_type": "code",
   "execution_count": null,
   "metadata": {},
   "outputs": [],
   "source": [
    "def loadPickle(fp):\n",
    "    with open(fp, 'rb') as handle:\n",
    "        return pickle.load(handle)"
   ]
  },
  {
   "cell_type": "code",
   "execution_count": null,
   "metadata": {},
   "outputs": [],
   "source": [
    "def compute(model, fp, data):\n",
    "    outputs = []\n",
    "    for f in os.listdir(fp):\n",
    "        full_model_path = os.path.join(fp, f)\n",
    "        model.load_state_dict(torch.load(full_model_path))\n",
    "        val_set = process.SkinSet(data['validation'])\n",
    "\n",
    "        batch_total = 0.0\n",
    "        labels = []\n",
    "        predictions = [] \n",
    "    \n",
    "        model.eval()\n",
    "        with torch.no_grad():\n",
    "            for idx, (inputs, targets) in enumerate(loader):\n",
    "                inputs, targets = inputs.to(device), targets.to(device)\n",
    "                preds = model(inputs)\n",
    "                batch_total += 1\n",
    "                labels.extend(targets.detach().cpu().numpy())\n",
    "                predictions.extend(preds.detach().cpu().numpy())\n",
    "\n",
    "\n",
    "        outputs.append(predictions, labels)\n",
    "        \n",
    "    return outputs"
   ]
  },
  {
   "cell_type": "code",
   "execution_count": null,
   "metadata": {},
   "outputs": [],
   "source": [
    "data = loadPickle('./data/exp.pickle')\n",
    "preds, labels = compute(model, './ensembles', data)"
   ]
  },
  {
   "cell_type": "code",
   "execution_count": null,
   "metadata": {},
   "outputs": [],
   "source": [
    "mean = np.mean(preds, 0)\n",
    "var = np.mean(np.var(prd,0),-1)"
   ]
  },
  {
   "cell_type": "code",
   "execution_count": null,
   "metadata": {},
   "outputs": [],
   "source": [
    "n, bins, patches = plt.hist(mean, 50, density=True, facecolor='g', alpha=0.75)\n",
    "plt.xlabel('Smarts')\n",
    "plt.ylabel('Probability')\n",
    "plt.title('Mean Histogram')\n",
    "plt.grid(True)\n",
    "plt.show()"
   ]
  },
  {
   "cell_type": "code",
   "execution_count": null,
   "metadata": {},
   "outputs": [],
   "source": [
    "n, bins, patches = plt.hist(var, 50, density=True, facecolor='g', alpha=0.75)\n",
    "plt.xlabel('Smarts')\n",
    "plt.ylabel('Probability')\n",
    "plt.title('Mean Histogram')\n",
    "plt.grid(True)\n",
    "plt.show()"
   ]
  }
 ],
 "metadata": {
  "kernelspec": {
   "display_name": "Python 3",
   "language": "python",
   "name": "python3"
  },
  "language_info": {
   "codemirror_mode": {
    "name": "ipython",
    "version": 3
   },
   "file_extension": ".py",
   "mimetype": "text/x-python",
   "name": "python",
   "nbconvert_exporter": "python",
   "pygments_lexer": "ipython3",
   "version": "3.6.9"
  }
 },
 "nbformat": 4,
 "nbformat_minor": 4
}
