{
 "cells": [
  {
   "cell_type": "markdown",
   "metadata": {},
   "source": [
    "# Deep Ensemble For Uncertainty Predictions"
   ]
  },
  {
   "cell_type": "markdown",
   "metadata": {},
   "source": [
    "# Import"
   ]
  },
  {
   "cell_type": "code",
   "execution_count": 24,
   "metadata": {},
   "outputs": [],
   "source": [
    "# system\n",
    "import sys\n",
    "import os \n",
    "import time\n",
    "\n",
    "# data\n",
    "import pickle\n",
    "import numpy as np\n",
    "import pandas as pd\n",
    "import matplotlib.pyplot as plt\n",
    "import cv2 as cv\n",
    "from sklearn.metrics import accuracy_score, confusion_matrix, plot_confusion_matrix\n",
    "import itertools\n",
    "\n",
    "# deep learning \n",
    "import torch.backends.cudnn as cudnn\n",
    "import torch\n",
    "import torchvision\n",
    "import torch.nn as nn\n",
    "import torch.optim as optim\n",
    "from torch.utils.data import DataLoader \n",
    "import torchvision.transforms as txf\n",
    "import kornia.augmentation as k\n",
    "\n",
    "# custom helpers\n",
    "import trainer\n",
    "import metrics\n",
    "import process\n",
    "import models\n",
    "\n",
    "# for formatting\n",
    "from pprint import pprint\n",
    "import warnings\n",
    "warnings.filterwarnings('ignore')"
   ]
  },
  {
   "cell_type": "markdown",
   "metadata": {},
   "source": [
    "# Notebook Toggles"
   ]
  },
  {
   "cell_type": "code",
   "execution_count": 2,
   "metadata": {},
   "outputs": [],
   "source": [
    "COMPUTE_DISTRIBUTION = False\n",
    "MODEL_ZOO = True\n",
    "MODEL_TYPE = [\"RES\", \"DENSE\"][0]"
   ]
  },
  {
   "cell_type": "markdown",
   "metadata": {},
   "source": [
    "## Hyperparameters "
   ]
  },
  {
   "cell_type": "code",
   "execution_count": 3,
   "metadata": {},
   "outputs": [],
   "source": [
    "device = torch.device('cuda:0')\n",
    "epochs = 30\n",
    "learning_rate = 3e-4\n",
    "weight_decay = 1e-5\n",
    "step_period = 3\n",
    "lr_decay = 0.95\n",
    "num_workers = 6\n",
    "batch_size = 128"
   ]
  },
  {
   "cell_type": "markdown",
   "metadata": {},
   "source": [
    "# Data"
   ]
  },
  {
   "cell_type": "markdown",
   "metadata": {},
   "source": [
    "Data is provided by \"The ISIC 2020 Challenge\". The dataset is annotated for binary classification of skin lesions for melanoma detection. More information may be found at \"https://challenge2020.isic-archive.com/\"\n",
    "\n",
    "Data is sources from 2000 patients and includes 33,126 dermoscopic training images"
   ]
  },
  {
   "cell_type": "markdown",
   "metadata": {},
   "source": [
    "## Loading and Statistics"
   ]
  },
  {
   "cell_type": "code",
   "execution_count": 4,
   "metadata": {},
   "outputs": [],
   "source": [
    "def toPath(root, image_id):\n",
    "    return os.path.join(root, image_id + '.npy')\n",
    "\n",
    "def toLabel(key, mapping):\n",
    "    return mapping[key]"
   ]
  },
  {
   "cell_type": "markdown",
   "metadata": {},
   "source": [
    "### HAM"
   ]
  },
  {
   "cell_type": "code",
   "execution_count": 5,
   "metadata": {},
   "outputs": [],
   "source": [
    "# paths\n",
    "ham_path = '/usr/local/faststorage/ezimmer/data/'\n",
    "\n",
    "# parse data\n",
    "metadata = pd.read_csv('./data/HAM/metadata.csv')\n",
    "headers = metadata.head()\n",
    "\n",
    "# verify data\n",
    "label_mapping = {label : idx for idx, label in enumerate(sorted(np.unique(metadata['dx'])))}\n",
    "data_file = {ID : {'image' : None, 'label' : None} for ID in metadata['image_id']}\n",
    "\n",
    "for ID in metadata['image_id']:\n",
    "    data_file[ID]['image'] = toPath(ham_path, ID)\n",
    "    data_file[ID]['label'] = toLabel(metadata[metadata['image_id'] == ID]['dx'].values[0], label_mapping)\n",
    "\n",
    "# get class distribution\n",
    "class_counts = {idx : 0 for idx in range(len(np.unique(metadata['dx'])))}\n",
    "for ID in data_file.keys():\n",
    "    class_counts[data_file[ID]['label']] += 1\n",
    "    \n",
    "ncls = len(class_counts.keys())"
   ]
  },
  {
   "cell_type": "code",
   "execution_count": 6,
   "metadata": {},
   "outputs": [
    {
     "name": "stdout",
     "output_type": "stream",
     "text": [
      "HAM 10000 Metadata\n",
      "------------------------------------------------------------------\n",
      "     lesion_id      image_id   dx dx_type   age   sex localization\n",
      "0  HAM_0000118  ISIC_0027419  bkl   histo  80.0  male        scalp\n",
      "1  HAM_0000118  ISIC_0025030  bkl   histo  80.0  male        scalp\n",
      "2  HAM_0002730  ISIC_0026769  bkl   histo  80.0  male        scalp\n",
      "3  HAM_0002730  ISIC_0025661  bkl   histo  80.0  male        scalp\n",
      "4  HAM_0001466  ISIC_0031633  bkl   histo  75.0  male          ear \n",
      "\n",
      "Number of Classes\n",
      "7 \n",
      "\n",
      "Unique Labels\n",
      "{'akiec': 0, 'bcc': 1, 'bkl': 2, 'df': 3, 'mel': 4, 'nv': 5, 'vasc': 6} \n",
      "\n",
      "Class Balance\n",
      "{0: 327, 1: 514, 2: 1099, 3: 115, 4: 1113, 5: 6705, 6: 142}\n"
     ]
    }
   ],
   "source": [
    "print(\"HAM 10000 Metadata\")\n",
    "print('------------------------------------------------------------------')\n",
    "print(headers, '\\n')\n",
    "print(\"Number of Classes\")\n",
    "print(ncls, '\\n')\n",
    "print('Unique Labels')\n",
    "print(label_mapping, '\\n')\n",
    "print(\"Class Balance\")\n",
    "print(class_counts)"
   ]
  },
  {
   "cell_type": "code",
   "execution_count": 7,
   "metadata": {},
   "outputs": [],
   "source": [
    "if COMPUTE_DISTRIBUTION: \n",
    "    ys, xs = [], []\n",
    "    for ID in data_file.keys():\n",
    "        img = cv.imread(data_file[ID]['image'])\n",
    "        y, x, _ = img.shape\n",
    "        ys.append(y)\n",
    "        xs.append(x)\n",
    "    \n",
    "    print(\"Dataset Image Size Distribution\")\n",
    "    print(\"Num Patients\", len(ys), len(xs))\n",
    "    print(\"Unique Values\", np.unique(ys), np.unique(xs))\n",
    "    plt.scatter(y,x)\n",
    "    plt.title(\"Image dimensions\")\n",
    "    plt.show()"
   ]
  },
  {
   "cell_type": "markdown",
   "metadata": {},
   "source": [
    "## Experiment, Dataset, Dataloader"
   ]
  },
  {
   "cell_type": "markdown",
   "metadata": {},
   "source": [
    "### Augmentations"
   ]
  },
  {
   "cell_type": "code",
   "execution_count": 8,
   "metadata": {},
   "outputs": [],
   "source": [
    "train_augmentations = process.Transformer()\n",
    "train_augmentations.add(k.RandomHorizontalFlip())\n",
    "train_augmentations.add(k.RandomVerticalFlip())\n",
    "train_augmentations.add(k.RandomRotation(15))\n",
    "train_augmentations.add(k.ColorJitter(0.1, 0.1, 0.1))\n",
    "train_augmentations.add(txf.Lambda(lambda x: x.squeeze()))\n",
    "train_txf = train_augmentations.transforms()"
   ]
  },
  {
   "cell_type": "markdown",
   "metadata": {},
   "source": [
    "Since the dataset is imbalanced, partition train/validation/test by number of classes and then wrap in an oversampler"
   ]
  },
  {
   "cell_type": "code",
   "execution_count": 9,
   "metadata": {},
   "outputs": [],
   "source": [
    "# generate partitioned exp\n",
    "partitioned_data = process.generateExperiment(data_file, ncls)\n",
    "merged_data = process.restructureExperiments(partitioned_data)\n",
    "\n",
    "# generate datasets\n",
    "train_set = process.SkinSet(merged_data['train'])\n",
    "val_set = process.SkinSet(merged_data['validation'])\n",
    "test_set = process.SkinSet(merged_data['test'])\n",
    "\n",
    "# Loaders\n",
    "train_loader = DataLoader(train_set, batch_size=batch_size, num_workers=num_workers, pin_memory=True, shuffle=True)\n",
    "val_loader = DataLoader(val_set, batch_size=batch_size, num_workers=num_workers)\n",
    "test_loader = DataLoader(test_set, batch_size=batch_size, num_workers=num_workers)"
   ]
  },
  {
   "cell_type": "markdown",
   "metadata": {},
   "source": [
    "# Model"
   ]
  },
  {
   "cell_type": "markdown",
   "metadata": {},
   "source": [
    "Randomly initialized ResNet-50/18/34"
   ]
  },
  {
   "cell_type": "code",
   "execution_count": 10,
   "metadata": {},
   "outputs": [],
   "source": [
    "def init_weights(m):\n",
    "        if (type(m) == nn.Conv2d or type(m) == nn.Linear):\n",
    "            nn.init.kaiming_normal_(m.weight)\n",
    "\n",
    "if MODEL_ZOO: \n",
    "    \n",
    "    def generateModel(n_cls, model_type, init=None, device=None):\n",
    "        if model_type == 'RES':\n",
    "            model = torchvision.models.resnet18(pretrained=True)\n",
    "            model.fc.out_features=n_cls\n",
    "        \n",
    "        elif model_type == 'DENSE':\n",
    "            model = torchvision.models.densenet121(pretrained=True)\n",
    "            model_lin = model.classifier.in_features\n",
    "            model.classifier = nn.Linear(model_lin, n_cls)\n",
    "\n",
    "        if init is not None:\n",
    "            model.apply(init)\n",
    "\n",
    "        if device is not None:\n",
    "            model = model.to(device)\n",
    "\n",
    "        return model\n",
    "\n",
    "    model = generateModel(ncls, model_type=MODEL_TYPE, init=None, device=device)\n",
    "    \n",
    "else:\n",
    "    basic_config = ([3, 32, 64, 128, 256], 1, True, 0.15, 7)\n",
    "    model = models.BasicCNN(*basic_config).to(device)\n",
    "    model.apply(init_weights)"
   ]
  },
  {
   "cell_type": "markdown",
   "metadata": {},
   "source": [
    "# Optimization and Criteria"
   ]
  },
  {
   "cell_type": "markdown",
   "metadata": {},
   "source": [
    "Optimizer: AdamW for super convergence and fast training\n",
    "\n",
    "Scheduler: Step LR decay "
   ]
  },
  {
   "cell_type": "code",
   "execution_count": 11,
   "metadata": {},
   "outputs": [],
   "source": [
    "optimizer = optim.AdamW(model.parameters(), lr=learning_rate, weight_decay=weight_decay)\n",
    "scheduler = optim.lr_scheduler.StepLR(optimizer, step_period, lr_decay)\n",
    "criterion = nn.CrossEntropyLoss().to(device)"
   ]
  },
  {
   "cell_type": "markdown",
   "metadata": {},
   "source": [
    "# Metrics and Aggregation"
   ]
  },
  {
   "cell_type": "code",
   "execution_count": 12,
   "metadata": {},
   "outputs": [],
   "source": [
    "# Metric storage\n",
    "train_stats = metrics.Aggregator()\n",
    "val_stats = metrics.Aggregator()\n",
    "test_stats = metrics.Aggregator()\n",
    "\n",
    "# add stats\n",
    "train_stats.addStat('loss')\n",
    "val_stats.addStat('loss')\n",
    "train_stats.addStat('acc', accuracy_score)\n",
    "val_stats.addStat('acc', accuracy_score)"
   ]
  },
  {
   "cell_type": "markdown",
   "metadata": {},
   "source": [
    "# Training "
   ]
  },
  {
   "cell_type": "code",
   "execution_count": 13,
   "metadata": {
    "scrolled": true
   },
   "outputs": [
    {
     "name": "stdout",
     "output_type": "stream",
     "text": [
      "Epoch: 1\n",
      "--------------------------------\n",
      "Time: 59.37415885925293\n",
      "Training Loss:        1.3467706\n",
      "Validation Loss:      0.67545253\n",
      "Training Accuracy:    0.7107965931863728\n",
      "Validation Accuracy:  0.7675350701402806 \n",
      "\n",
      "Epoch: 2\n",
      "--------------------------------\n",
      "Time: 59.15791845321655\n",
      "Training Loss:        0.52996457\n",
      "Validation Loss:      0.5261237\n",
      "Training Accuracy:    0.8093687374749499\n",
      "Validation Accuracy:  0.8026052104208417 \n",
      "\n",
      "Epoch: 3\n",
      "--------------------------------\n",
      "Time: 59.312318086624146\n",
      "Training Loss:        0.4591665\n",
      "Validation Loss:      0.57260734\n",
      "Training Accuracy:    0.8355460921843687\n",
      "Validation Accuracy:  0.7955911823647295 \n",
      "\n",
      "Epoch: 4\n",
      "--------------------------------\n",
      "Time: 59.239418029785156\n",
      "Training Loss:        0.4112609\n",
      "Validation Loss:      0.5497164\n",
      "Training Accuracy:    0.8466933867735471\n",
      "Validation Accuracy:  0.8046092184368737 \n",
      "\n",
      "Epoch: 5\n",
      "--------------------------------\n",
      "Time: 59.30732297897339\n",
      "Training Loss:        0.3735264\n",
      "Validation Loss:      0.48335767\n",
      "Training Accuracy:    0.8619739478957916\n",
      "Validation Accuracy:  0.8166332665330661 \n",
      "\n",
      "Epoch: 6\n",
      "--------------------------------\n",
      "Time: 59.18210434913635\n",
      "Training Loss:        0.335028\n",
      "Validation Loss:      0.70932424\n",
      "Training Accuracy:    0.876377755511022\n",
      "Validation Accuracy:  0.7885771543086172 \n",
      "\n",
      "Epoch: 7\n",
      "--------------------------------\n",
      "Time: 59.386019706726074\n",
      "Training Loss:        0.30275273\n",
      "Validation Loss:      0.51819843\n",
      "Training Accuracy:    0.8885270541082164\n",
      "Validation Accuracy:  0.8166332665330661 \n",
      "\n",
      "Epoch: 8\n",
      "--------------------------------\n",
      "Time: 59.33256983757019\n",
      "Training Loss:        0.27887923\n",
      "Validation Loss:      0.54004884\n",
      "Training Accuracy:    0.8975450901803608\n",
      "Validation Accuracy:  0.8206412825651302 \n",
      "\n",
      "Epoch: 9\n",
      "--------------------------------\n",
      "Time: 59.282381772994995\n",
      "Training Loss:        0.2540945\n",
      "Validation Loss:      0.5645163\n",
      "Training Accuracy:    0.907439879759519\n",
      "Validation Accuracy:  0.8246492985971944 \n",
      "\n",
      "Epoch: 10\n",
      "--------------------------------\n",
      "Time: 59.24368977546692\n",
      "Training Loss:        0.231539\n",
      "Validation Loss:      0.60379237\n",
      "Training Accuracy:    0.9155811623246493\n",
      "Validation Accuracy:  0.8296593186372746 \n",
      "\n",
      "Epoch: 11\n",
      "--------------------------------\n",
      "Time: 59.269057512283325\n",
      "Training Loss:        0.22452825\n",
      "Validation Loss:      0.53551126\n",
      "Training Accuracy:    0.9154559118236473\n",
      "Validation Accuracy:  0.8296593186372746 \n",
      "\n",
      "Epoch: 12\n",
      "--------------------------------\n",
      "Time: 59.230947732925415\n",
      "Training Loss:        0.20394541\n",
      "Validation Loss:      0.53188103\n",
      "Training Accuracy:    0.9239729458917836\n",
      "Validation Accuracy:  0.8336673346693386 \n",
      "\n",
      "Epoch: 13\n",
      "--------------------------------\n",
      "Time: 59.34300446510315\n",
      "Training Loss:        0.18846571\n",
      "Validation Loss:      0.61015576\n",
      "Training Accuracy:    0.9281062124248497\n",
      "Validation Accuracy:  0.8356713426853707 \n",
      "\n",
      "Epoch: 14\n",
      "--------------------------------\n",
      "Time: 59.25250291824341\n",
      "Training Loss:        0.17734674\n",
      "Validation Loss:      0.47101787\n",
      "Training Accuracy:    0.9334919839679359\n",
      "Validation Accuracy:  0.8466933867735471 \n",
      "\n",
      "Epoch: 15\n",
      "--------------------------------\n",
      "Time: 59.09542489051819\n",
      "Training Loss:        0.16960232\n",
      "Validation Loss:      0.49432778\n",
      "Training Accuracy:    0.9400050100200401\n",
      "Validation Accuracy:  0.8527054108216433 \n",
      "\n",
      "Epoch: 16\n",
      "--------------------------------\n",
      "Time: 59.22454881668091\n",
      "Training Loss:        0.14901005\n",
      "Validation Loss:      0.77805954\n",
      "Training Accuracy:    0.9452655310621243\n",
      "Validation Accuracy:  0.7905811623246493 \n",
      "\n",
      "Epoch: 17\n",
      "--------------------------------\n",
      "Time: 59.24620985984802\n",
      "Training Loss:        0.14467926\n",
      "Validation Loss:      0.93924534\n",
      "Training Accuracy:    0.9465180360721442\n",
      "Validation Accuracy:  0.750501002004008 \n",
      "\n",
      "Epoch: 18\n",
      "--------------------------------\n",
      "Time: 59.05769610404968\n",
      "Training Loss:        0.12419844\n",
      "Validation Loss:      0.45682585\n",
      "Training Accuracy:    0.9554108216432866\n",
      "Validation Accuracy:  0.8567134268537074 \n",
      "\n",
      "Epoch: 19\n",
      "--------------------------------\n",
      "Time: 59.09250211715698\n",
      "Training Loss:        0.112974696\n",
      "Validation Loss:      0.54208934\n",
      "Training Accuracy:    0.9585420841683366\n",
      "Validation Accuracy:  0.8507014028056112 \n",
      "\n",
      "Epoch: 20\n",
      "--------------------------------\n",
      "Time: 59.13715410232544\n",
      "Training Loss:        0.12781957\n",
      "Validation Loss:      0.6636403\n",
      "Training Accuracy:    0.9530310621242485\n",
      "Validation Accuracy:  0.8326653306613226 \n",
      "\n",
      "Epoch: 21\n",
      "--------------------------------\n",
      "Time: 59.197131872177124\n",
      "Training Loss:        0.10886883\n",
      "Validation Loss:      0.7975765\n",
      "Training Accuracy:    0.9596693386773547\n",
      "Validation Accuracy:  0.8056112224448898 \n",
      "\n",
      "Epoch: 22\n",
      "--------------------------------\n",
      "Time: 59.24946403503418\n",
      "Training Loss:        0.10117297\n",
      "Validation Loss:      0.5866503\n",
      "Training Accuracy:    0.9628006012024048\n",
      "Validation Accuracy:  0.8416833667334669 \n",
      "\n",
      "Epoch: 23\n",
      "--------------------------------\n",
      "Time: 59.183130502700806\n",
      "Training Loss:        0.11055842\n",
      "Validation Loss:      0.5609885\n",
      "Training Accuracy:    0.9605460921843687\n",
      "Validation Accuracy:  0.845691382765531 \n",
      "\n",
      "Epoch: 24\n",
      "--------------------------------\n",
      "Time: 59.34239983558655\n",
      "Training Loss:        0.08062293\n",
      "Validation Loss:      0.46596947\n",
      "Training Accuracy:    0.969939879759519\n",
      "Validation Accuracy:  0.872745490981964 \n",
      "\n",
      "Epoch: 25\n",
      "--------------------------------\n",
      "Time: 59.302746534347534\n",
      "Training Loss:        0.09570243\n",
      "Validation Loss:      0.7512488\n",
      "Training Accuracy:    0.9646793587174348\n",
      "Validation Accuracy:  0.814629258517034 \n",
      "\n",
      "Epoch: 26\n",
      "--------------------------------\n",
      "Time: 59.180704832077026\n",
      "Training Loss:        0.08464624\n",
      "Validation Loss:      0.8480022\n",
      "Training Accuracy:    0.969689378757515\n",
      "Validation Accuracy:  0.8316633266533067 \n",
      "\n",
      "Epoch: 27\n",
      "--------------------------------\n",
      "Time: 59.21800112724304\n",
      "Training Loss:        0.083677344\n",
      "Validation Loss:      0.51317835\n",
      "Training Accuracy:    0.968311623246493\n",
      "Validation Accuracy:  0.8496993987975952 \n",
      "\n",
      "Epoch: 28\n",
      "--------------------------------\n",
      "Time: 59.15412473678589\n",
      "Training Loss:        0.07552837\n",
      "Validation Loss:      0.5781493\n",
      "Training Accuracy:    0.9734468937875751\n",
      "Validation Accuracy:  0.8496993987975952 \n",
      "\n",
      "Epoch: 29\n",
      "--------------------------------\n",
      "Time: 59.2421612739563\n",
      "Training Loss:        0.0757564\n",
      "Validation Loss:      0.57521117\n",
      "Training Accuracy:    0.9728206412825652\n",
      "Validation Accuracy:  0.8677354709418837 \n",
      "\n",
      "Epoch: 30\n",
      "--------------------------------\n",
      "Time: 59.19890522956848\n",
      "Training Loss:        0.072406925\n",
      "Validation Loss:      0.69381034\n",
      "Training Accuracy:    0.9730711422845691\n",
      "Validation Accuracy:  0.8356713426853707 \n",
      "\n"
     ]
    },
    {
     "data": {
      "image/png": "[encoded data removed]",
      "text/plain": [
       "<Figure size 432x288 with 1 Axes>"
      ]
     },
     "metadata": {
      "needs_background": "light"
     },
     "output_type": "display_data"
    },
    {
     "data": {
      "image/png": "[encoded data removed]",
      "text/plain": [
       "<Figure size 432x288 with 1 Axes>"
      ]
     },
     "metadata": {
      "needs_background": "light"
     },
     "output_type": "display_data"
    }
   ],
   "source": [
    "best_stat = 0\n",
    "best_model = None\n",
    "for epoch in range(epochs):\n",
    "    \n",
    "    t = time.time()\n",
    "    \n",
    "    # train\n",
    "    preds, labels, t_loss = trainer.train(model, criterion, optimizer, scheduler, train_loader, device, train_txf)\n",
    "    train_stats.logStat('loss', (t_loss,))\n",
    "    train_stats.logStat('acc', (labels, preds))\n",
    "    \n",
    "    # validate\n",
    "    preds, labels, v_loss = trainer.evaluate(model, criterion, optimizer, scheduler, val_loader, device)\n",
    "    val_stats.logStat('loss', (v_loss,))\n",
    "    val_stats.logStat('acc', (labels, preds))\n",
    "    \n",
    "    if val_stats.getStats('acc')[-1] > best_stat:\n",
    "        best_stat = val_stats.getStats('acc')[-1]\n",
    "        best_model = model.state_dict()\n",
    "    \n",
    "    t = time.time() - t\n",
    "        \n",
    "    print(\"Epoch:\", epoch+1)\n",
    "    print(\"--------------------------------\")\n",
    "    print(\"Time:\", t)\n",
    "    print(\"Training Loss:       \", t_loss)\n",
    "    print(\"Validation Loss:     \", v_loss)\n",
    "    print(\"Training Accuracy:   \", train_stats.getStats('acc')[-1])\n",
    "    print(\"Validation Accuracy: \", val_stats.getStats('acc')[-1], '\\n')\n",
    "    \n",
    "    \n",
    "metrics.Plotter.plot(train_stats.getStats('loss'), val_stats.getStats('loss'), 'Epochs', 'Loss', 'Losses')\n",
    "metrics.Plotter.plot(train_stats.getStats('acc'), val_stats.getStats('acc'), 'Epochs', 'Accuracy', 'Accuracies')"
   ]
  },
  {
   "cell_type": "code",
   "execution_count": 16,
   "metadata": {},
   "outputs": [],
   "source": [
    "if not os.path.exists('./ensembles'):\n",
    "    os.mkdir('./ensembles')"
   ]
  },
  {
   "cell_type": "code",
   "execution_count": 19,
   "metadata": {},
   "outputs": [],
   "source": [
    "with open('exp.pickle', 'wb') as handle:\n",
    "    pickle.dump(merged_data, handle, protocol=pickle.HIGHEST_PROTOCOL)"
   ]
  },
  {
   "cell_type": "code",
   "execution_count": 20,
   "metadata": {},
   "outputs": [],
   "source": [
    "torch.save(best_model, os.path.join('./ensembles', 'model_' + str(0) + '.pth.tar'))"
   ]
  },
  {
   "cell_type": "markdown",
   "metadata": {},
   "source": [
    "# Testing"
   ]
  },
  {
   "cell_type": "code",
   "execution_count": 21,
   "metadata": {},
   "outputs": [],
   "source": [
    "def plot_confusion_matrix(cm, classes,\n",
    "                          normalize=False,\n",
    "                          title='Confusion matrix',\n",
    "                          cmap=plt.cm.Blues):\n",
    "    \"\"\"\n",
    "    This function prints and plots the confusion matrix.\n",
    "    Normalization can be applied by setting `normalize=True`.\n",
    "    \"\"\"\n",
    "    plt.imshow(cm, interpolation='nearest', cmap=cmap)\n",
    "    plt.title(title)\n",
    "    plt.colorbar()\n",
    "    tick_marks = np.arange(len(classes))\n",
    "    plt.xticks(tick_marks, classes, rotation=45)\n",
    "    plt.yticks(tick_marks, classes)\n",
    "\n",
    "    if normalize:\n",
    "        cm = cm.astype('float') / cm.sum(axis=1)[:, np.newaxis]\n",
    "\n",
    "    thresh = cm.max() / 2.\n",
    "    for i, j in itertools.product(range(cm.shape[0]), range(cm.shape[1])):\n",
    "        plt.text(j, i, cm[i, j],\n",
    "                 horizontalalignment=\"center\",\n",
    "                 color=\"white\" if cm[i, j] > thresh else \"black\")\n",
    "\n",
    "    plt.tight_layout()\n",
    "    plt.ylabel('True label')\n",
    "    plt.xlabel('Predicted label')"
   ]
  },
  {
   "cell_type": "code",
   "execution_count": 26,
   "metadata": {},
   "outputs": [
    {
     "name": "stdout",
     "output_type": "stream",
     "text": [
      "Test Accuracy:  0.8102613746369797\n",
      "[[ 15   2   7   0  12   3   0]\n",
      " [  0  37   3   0  15   0   0]\n",
      " [  2   1  84   0  22   9   0]\n",
      " [  1   0   0   8   6   1   0]\n",
      " [  0   0   4   0 100  10   0]\n",
      " [  0   4   7   0  85 578   1]\n",
      " [  0   0   0   0   0   1  15]]\n"
     ]
    }
   ],
   "source": [
    "model.load_state_dict(best_model)\n",
    "preds, labels, _ = trainer.evaluate(model, criterion, optimizer, scheduler, test_loader, device, )\n",
    "test_acc = accuracy_score(labels, preds)\n",
    "conf_mat = confusion_matrix(labels, preds)\n",
    "print(\"Test Accuracy: \", test_acc)\n",
    "print(conf_mat)"
   ]
  },
  {
   "cell_type": "markdown",
   "metadata": {},
   "source": [
    "# Ensemble "
   ]
  },
  {
   "cell_type": "code",
   "execution_count": 27,
   "metadata": {},
   "outputs": [],
   "source": [
    "n_ensembles = 25"
   ]
  },
  {
   "cell_type": "code",
   "execution_count": null,
   "metadata": {},
   "outputs": [
    {
     "name": "stdout",
     "output_type": "stream",
     "text": [
      "MODEL: 2\n",
      "Epoch: 1\n",
      "--------------------------------\n",
      "Time: 56.25868558883667\n",
      "Training Loss:        1.2698317\n",
      "Validation Loss:      0.5745955\n",
      "Training Accuracy:    0.7139278557114228\n",
      "Validation Accuracy:  0.7965931863727455 \n",
      "\n",
      "MODEL: 2\n",
      "Epoch: 2\n",
      "--------------------------------\n",
      "Time: 56.375436305999756\n",
      "Training Loss:        0.5237693\n",
      "Validation Loss:      0.5310993\n",
      "Training Accuracy:    0.814754509018036\n",
      "Validation Accuracy:  0.8076152304609219 \n",
      "\n",
      "MODEL: 2\n",
      "Epoch: 3\n",
      "--------------------------------\n",
      "Time: 56.520721435546875\n",
      "Training Loss:        0.45026445\n",
      "Validation Loss:      0.5087691\n",
      "Training Accuracy:    0.8388026052104208\n",
      "Validation Accuracy:  0.8136272545090181 \n",
      "\n",
      "MODEL: 2\n",
      "Epoch: 4\n",
      "--------------------------------\n",
      "Time: 56.53843879699707\n",
      "Training Loss:        0.40921947\n",
      "Validation Loss:      0.5491836\n",
      "Training Accuracy:    0.8494488977955912\n",
      "Validation Accuracy:  0.814629258517034 \n",
      "\n"
     ]
    }
   ],
   "source": [
    "for idx in range(1, n_ensembles):\n",
    "    model = generateModel(ncls, MODEL_TYPE, None, device)\n",
    "    optimizer = optim.AdamW(model.parameters(), lr=learning_rate, weight_decay=weight_decay)\n",
    "    scheduler = optim.lr_scheduler.StepLR(optimizer, step_period, lr_decay)\n",
    "    criterion = nn.CrossEntropyLoss().to(device)\n",
    "    train_stats = metrics.Aggregator()\n",
    "    val_stats = metrics.Aggregator()\n",
    "    test_stats = metrics.Aggregator()\n",
    "    train_stats.addStat('loss')\n",
    "    val_stats.addStat('loss')\n",
    "    train_stats.addStat('acc', accuracy_score)\n",
    "    val_stats.addStat('acc', accuracy_score)\n",
    "    \n",
    "    best_stat = 0\n",
    "    best_model = None\n",
    "    for epoch in range(epochs):\n",
    "\n",
    "        t = time.time()\n",
    "\n",
    "        # train\n",
    "        preds, labels, t_loss = trainer.train(model, criterion, optimizer, scheduler, train_loader, device, train_txf)\n",
    "        train_stats.logStat('loss', (t_loss,))\n",
    "        train_stats.logStat('acc', (labels, preds))\n",
    "\n",
    "        # validate\n",
    "        preds, labels, v_loss = trainer.evaluate(model, criterion, optimizer, scheduler, val_loader, device)\n",
    "        val_stats.logStat('loss', (v_loss,))\n",
    "        val_stats.logStat('acc', (labels, preds))\n",
    "\n",
    "        if val_stats.getStats('acc')[-1] > best_stat:\n",
    "            best_stat = val_stats.getStats('acc')[-1]\n",
    "            best_model = model.state_dict()\n",
    "\n",
    "        t = time.time() - t\n",
    "        \n",
    "        print(\"MODEL:\", idx+1)\n",
    "        print(\"Epoch:\", epoch+1)\n",
    "        print(\"--------------------------------\")\n",
    "        print(\"Time:\", t)\n",
    "        print(\"Training Loss:       \", t_loss)\n",
    "        print(\"Validation Loss:     \", v_loss)\n",
    "        print(\"Training Accuracy:   \", train_stats.getStats('acc')[-1])\n",
    "        print(\"Validation Accuracy: \", val_stats.getStats('acc')[-1], '\\n')\n",
    "        \n",
    "    torch.save(best_model, os.path.join('./ensembles', 'model_' + str(idx+1) + '.pth.tar'))\n",
    "                                        "
   ]
  },
  {
   "cell_type": "code",
   "execution_count": null,
   "metadata": {},
   "outputs": [],
   "source": []
  }
 ],
 "metadata": {
  "kernelspec": {
   "display_name": "Python 3",
   "language": "python",
   "name": "python3"
  },
  "language_info": {
   "codemirror_mode": {
    "name": "ipython",
    "version": 3
   },
   "file_extension": ".py",
   "mimetype": "text/x-python",
   "name": "python",
   "nbconvert_exporter": "python",
   "pygments_lexer": "ipython3",
   "version": "3.6.9"
  }
 },
 "nbformat": 4,
 "nbformat_minor": 4
}
